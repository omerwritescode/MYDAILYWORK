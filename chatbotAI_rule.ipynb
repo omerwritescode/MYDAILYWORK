{
  "nbformat": 4,
  "nbformat_minor": 0,
  "metadata": {
    "colab": {
      "provenance": []
    },
    "kernelspec": {
      "name": "python3",
      "display_name": "Python 3"
    },
    "language_info": {
      "name": "python"
    }
  },
  "cells": [
    {
      "cell_type": "code",
      "execution_count": 1,
      "metadata": {
        "id": "7aQuWQVU2Lt0"
      },
      "outputs": [],
      "source": [
        "def chatbot_response(user_input):\n",
        "    user_input = user_input.lower()\n",
        "\n",
        "    # these are some simple responses based on keywords\n",
        "    if \"hello\" in user_input or \"hi\" in user_input:\n",
        "        return \"Hello! How can I assist you today?\"\n",
        "    elif \"how are you\" in user_input:\n",
        "        return \"I'm just a program, but I'm doing great! How about you?\"\n",
        "    elif \"help\" in user_input or \"support\" in user_input:\n",
        "        return \"Sure! I'm here to help. What do you need assistance with?\"\n",
        "    elif \"bye\" in user_input or \"goodbye\" in user_input:\n",
        "        return \"Goodbye! Have a great day!\"\n",
        "    elif \"your name\" in user_input:\n",
        "        return \"I'm a simple chatbot created to assist you!\"\n",
        "    elif \"weather\" in user_input:\n",
        "        return \"I can't check the weather yet, but you can use your favorite weather app!\"\n",
        "    elif \"thanks\" in user_input or \"thank you\" in user_input:\n",
        "        return \"You're welcome! Glad to help.\"\n",
        "    else:\n",
        "        return \"Sorry, I don't understand that. Can you please rephrase?\""
      ]
    },
    {
      "cell_type": "code",
      "source": [
        "def chat():\n",
        "    print(\"Chatbot: Hello! I'm here to help. Type 'bye' to exit.\")\n",
        "    while True:\n",
        "        user_input = input(\"You: \")\n",
        "        if user_input.lower() == \"bye\":\n",
        "            print(\"Chatbot: Goodbye!\")\n",
        "            break\n",
        "        response = chatbot_response(user_input)\n",
        "        print(f\"Chatbot: {response}\")"
      ],
      "metadata": {
        "id": "aAA-cNqZ4d6i"
      },
      "execution_count": 2,
      "outputs": []
    },
    {
      "cell_type": "code",
      "source": [
        "# Run the chatbot\n",
        "if __name__ == \"__main__\":\n",
        "    chat()"
      ],
      "metadata": {
        "colab": {
          "base_uri": "https://localhost:8080/"
        },
        "id": "W0On2HeK4t3x",
        "outputId": "104dea92-50d5-4931-e8e9-5601460aede4"
      },
      "execution_count": 3,
      "outputs": [
        {
          "output_type": "stream",
          "name": "stdout",
          "text": [
            "Chatbot: Hello! I'm here to help. Type 'bye' to exit.\n",
            "You: hiii\n",
            "Chatbot: Hello! How can I assist you today?\n",
            "You: weather?\n",
            "Chatbot: I can't check the weather yet, but you can use your favorite weather app!\n",
            "You: thanks\n",
            "Chatbot: You're welcome! Glad to help.\n",
            "You: help\n",
            "Chatbot: Sure! I'm here to help. What do you need assistance with?\n",
            "You: weather\n",
            "Chatbot: I can't check the weather yet, but you can use your favorite weather app!\n",
            "You: thanks\n",
            "Chatbot: You're welcome! Glad to help.\n",
            "You: bye\n",
            "Chatbot: Goodbye!\n"
          ]
        }
      ]
    }
  ]
}