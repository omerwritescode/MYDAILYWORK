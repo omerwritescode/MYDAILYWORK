{
  "nbformat": 4,
  "nbformat_minor": 0,
  "metadata": {
    "colab": {
      "provenance": [],
      "authorship_tag": "ABX9TyPcEjJazrNZQyUXczNBQdBw"
    },
    "kernelspec": {
      "name": "python3",
      "display_name": "Python 3"
    },
    "language_info": {
      "name": "python"
    }
  },
  "cells": [
    {
      "cell_type": "code",
      "execution_count": null,
      "metadata": {
        "id": "tCwOxyipXbgx"
      },
      "outputs": [],
      "source": [
        "import math"
      ]
    },
    {
      "cell_type": "code",
      "source": [
        "board = ['' for _ in range(9)]"
      ],
      "metadata": {
        "id": "PjXdLivBbjTw"
      },
      "execution_count": null,
      "outputs": []
    },
    {
      "cell_type": "code",
      "source": [
        "def print_board(board):\n",
        "    for row in [board[i:i + 3] for i in range(0, 9, 3)]:\n",
        "        print('|'.join([str(cell) if cell != '' else ' ' for cell in row]))\n",
        "        print('-' * 5)"
      ],
      "metadata": {
        "id": "NCB-aBNtbwJa"
      },
      "execution_count": null,
      "outputs": []
    },
    {
      "cell_type": "code",
      "source": [
        "def check_winner(board):\n",
        "    winning_combinations = [\n",
        "        (0, 1, 2), (3, 4, 5), (6, 7, 8),\n",
        "        (0, 3, 6), (1, 4, 7), (2, 5, 8),\n",
        "        (0, 4, 8), (2, 4, 6)\n",
        "    ]\n",
        "    for combo in winning_combinations:\n",
        "        if board[combo[0]] == board[combo[1]] == board[combo[2]] != '':\n",
        "            return board[combo[0]]\n",
        "    return None"
      ],
      "metadata": {
        "id": "555o--obbxHG"
      },
      "execution_count": null,
      "outputs": []
    },
    {
      "cell_type": "code",
      "source": [
        "def is_full(board):\n",
        "    return all(cell != '' for cell in board)"
      ],
      "metadata": {
        "id": "R5szDqJCbzfJ"
      },
      "execution_count": null,
      "outputs": []
    },
    {
      "cell_type": "code",
      "source": [
        "def minimax(board, depth, is_maximizing):\n",
        "    winner = check_winner(board)\n",
        "    if winner == 'X': return -10 + depth\n",
        "    if winner == 'O': return 10 - depth\n",
        "    if is_full(board): return 0\n",
        "\n",
        "    if is_maximizing:\n",
        "        max_eval = -math.inf\n",
        "        for i in range(9):\n",
        "            if board[i] == '':\n",
        "                board[i] = 'O'\n",
        "                eval = minimax(board, depth + 1, False)\n",
        "                board[i] = ''\n",
        "                max_eval = max(max_eval, eval)\n",
        "        return max_eval\n",
        "    else:\n",
        "        min_eval = math.inf\n",
        "        for i in range(9):\n",
        "            if board[i] == '':\n",
        "                board[i] = 'X'\n",
        "                eval = minimax(board, depth + 1, True)\n",
        "                board[i] = ''\n",
        "                min_eval = min(min_eval, eval)\n",
        "        return min_eval"
      ],
      "metadata": {
        "id": "3c822ca1bzyq"
      },
      "execution_count": null,
      "outputs": []
    },
    {
      "cell_type": "code",
      "source": [
        "def best_move(board):\n",
        "    best_val = -math.inf\n",
        "    move = -1\n",
        "    for i in range(9):\n",
        "        if board[i] == '':\n",
        "            board[i] = 'O'\n",
        "            move_val = minimax(board, 0, False)\n",
        "            board[i] = ''\n",
        "            if move_val > best_val:\n",
        "                best_val = move_val\n",
        "                move = i\n",
        "    return move"
      ],
      "metadata": {
        "id": "Y-K3h4Bxb0Ae"
      },
      "execution_count": null,
      "outputs": []
    },
    {
      "cell_type": "code",
      "source": [
        "def play_game():\n",
        "    current_turn = 'X'\n",
        "    while True:\n",
        "        print_board(board)\n",
        "\n",
        "        if check_winner(board):\n",
        "            print(f\"{check_winner(board)} wins!\")\n",
        "            break\n",
        "        if is_full(board):\n",
        "            print(\"It's a tie!\")\n",
        "            break\n",
        "\n",
        "        if current_turn == 'X':\n",
        "            human_move = int(input(\"Enter your move (0-8): \"))\n",
        "            if board[human_move] == '':\n",
        "                board[human_move] = 'X'\n",
        "                current_turn = 'O'\n",
        "        else:\n",
        "            ai_move = best_move(board)\n",
        "            board[ai_move] = 'O'\n",
        "            current_turn = 'X'"
      ],
      "metadata": {
        "id": "Q_9Js1dsb0Qi"
      },
      "execution_count": null,
      "outputs": []
    },
    {
      "cell_type": "code",
      "source": [
        "if __name__ == \"__main__\":\n",
        "    play_game()"
      ],
      "metadata": {
        "colab": {
          "base_uri": "https://localhost:8080/"
        },
        "id": "YnuY4uwAcAPR",
        "outputId": "09c18a22-0fd5-474c-d6fd-03184d2d5bf4"
      },
      "execution_count": null,
      "outputs": [
        {
          "output_type": "stream",
          "name": "stdout",
          "text": [
            " | | \n",
            "-----\n",
            " | | \n",
            "-----\n",
            " | | \n",
            "-----\n",
            "Enter your move (0-8): 1\n",
            " |X| \n",
            "-----\n",
            " | | \n",
            "-----\n",
            " | | \n",
            "-----\n",
            "O|X| \n",
            "-----\n",
            " | | \n",
            "-----\n",
            " | | \n",
            "-----\n",
            "Enter your move (0-8): 2\n",
            "O|X|X\n",
            "-----\n",
            " | | \n",
            "-----\n",
            " | | \n",
            "-----\n",
            "O|X|X\n",
            "-----\n",
            "O| | \n",
            "-----\n",
            " | | \n",
            "-----\n",
            "Enter your move (0-8): 6\n",
            "O|X|X\n",
            "-----\n",
            "O| | \n",
            "-----\n",
            "X| | \n",
            "-----\n",
            "O|X|X\n",
            "-----\n",
            "O|O| \n",
            "-----\n",
            "X| | \n",
            "-----\n",
            "Enter your move (0-8): 8\n",
            "O|X|X\n",
            "-----\n",
            "O|O| \n",
            "-----\n",
            "X| |X\n",
            "-----\n",
            "O|X|X\n",
            "-----\n",
            "O|O|O\n",
            "-----\n",
            "X| |X\n",
            "-----\n",
            "O wins!\n"
          ]
        }
      ]
    }
  ]
}